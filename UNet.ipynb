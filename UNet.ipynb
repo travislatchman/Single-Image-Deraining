{
  "nbformat": 4,
  "nbformat_minor": 0,
  "metadata": {
    "colab": {
      "provenance": [],
      "authorship_tag": "ABX9TyOufIRvfk4AZoGz91bd3ps+",
      "include_colab_link": true
    },
    "kernelspec": {
      "name": "python3",
      "display_name": "Python 3"
    },
    "language_info": {
      "name": "python"
    }
  },
  "cells": [
    {
      "cell_type": "markdown",
      "metadata": {
        "id": "view-in-github",
        "colab_type": "text"
      },
      "source": [
        "<a href=\"https://colab.research.google.com/github/travislatchman/Single-Image-Deraining/blob/main/UNet.ipynb\" target=\"_parent\"><img src=\"https://colab.research.google.com/assets/colab-badge.svg\" alt=\"Open In Colab\"/></a>"
      ]
    },
    {
      "cell_type": "markdown",
      "source": [
        "### create the building blocks for the architecture, including the encoder, decoder, and skip connections. "
      ],
      "metadata": {
        "id": "MXmfizlvfmRl"
      }
    },
    {
      "cell_type": "code",
      "execution_count": null,
      "metadata": {
        "id": "hVSfOVtad8c4"
      },
      "outputs": [],
      "source": [
        "import torch\n",
        "import torch.nn as nn\n",
        "import torch.nn.functional as F"
      ]
    },
    {
      "cell_type": "code",
      "source": [
        "class ConvBlock(nn.Module):\n",
        "    def __init__(self, in_channels, out_channels, kernel_size=3, dropout_rate=0.5, batch_norm=True):\n",
        "        super(ConvBlock, self).__init__()\n",
        "        self.batch_norm = batch_norm\n",
        "        self.conv1 = nn.Conv2d(in_channels, out_channels, kernel_size, padding=1)\n",
        "        self.bn1 = nn.BatchNorm2d(out_channels)\n",
        "        self.conv2 = nn.Conv2d(out_channels, out_channels, kernel_size, padding=1)\n",
        "        self.bn2 = nn.BatchNorm2d(out_channels)\n",
        "        self.dropout = nn.Dropout(dropout_rate)\n",
        "\n",
        "    def forward(self, x):\n",
        "        x = F.relu(self.conv1(x))\n",
        "        if self.batch_norm:\n",
        "            x = self.bn1(x)\n",
        "        x = F.relu(self.conv2(x))\n",
        "        if self.batch_norm:\n",
        "            x = self.bn2(x)\n",
        "        x = self.dropout(x)\n",
        "        return x\n",
        "\n"
      ],
      "metadata": {
        "id": "FwAgtzDrg4T_"
      },
      "execution_count": null,
      "outputs": []
    }
  ]
}