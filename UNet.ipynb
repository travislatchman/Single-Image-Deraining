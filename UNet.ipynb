{
  "nbformat": 4,
  "nbformat_minor": 0,
  "metadata": {
    "colab": {
      "provenance": [],
      "authorship_tag": "ABX9TyNvDaCIRoD88qVR8dRWbzea",
      "include_colab_link": true
    },
    "kernelspec": {
      "name": "python3",
      "display_name": "Python 3"
    },
    "language_info": {
      "name": "python"
    }
  },
  "cells": [
    {
      "cell_type": "markdown",
      "metadata": {
        "id": "view-in-github",
        "colab_type": "text"
      },
      "source": [
        "<a href=\"https://colab.research.google.com/github/travislatchman/Single-Image-Deraining/blob/main/UNet.ipynb\" target=\"_parent\"><img src=\"https://colab.research.google.com/assets/colab-badge.svg\" alt=\"Open In Colab\"/></a>"
      ]
    },
    {
      "cell_type": "markdown",
      "source": [
        "### create the building blocks for the architecture, including the encoder, decoder, and skip connections. "
      ],
      "metadata": {
        "id": "MXmfizlvfmRl"
      }
    },
    {
      "cell_type": "code",
      "execution_count": null,
      "metadata": {
        "id": "hVSfOVtad8c4"
      },
      "outputs": [],
      "source": [
        "import torch\n",
        "import torch.nn as nn\n",
        "import torch.nn.functional as F"
      ]
    },
    {
      "cell_type": "code",
      "source": [
        "class ConvBlock(nn.Module):\n",
        "    def __init__(self, in_channels, out_channels, kernel_size=3, dropout_rate=0.5, batch_norm=True):\n",
        "        super(ConvBlock, self).__init__()\n",
        "        self.batch_norm = batch_norm\n",
        "        self.conv1 = nn.Conv2d(in_channels, out_channels, kernel_size, padding=1)\n",
        "        self.bn1 = nn.BatchNorm2d(out_channels)\n",
        "        self.conv2 = nn.Conv2d(out_channels, out_channels, kernel_size, padding=1)\n",
        "        self.bn2 = nn.BatchNorm2d(out_channels)\n",
        "        self.dropout = nn.Dropout(dropout_rate)\n",
        "\n",
        "    def forward(self, x):\n",
        "        x = F.relu(self.conv1(x))\n",
        "        if self.batch_norm:\n",
        "            x = self.bn1(x)\n",
        "        x = F.relu(self.conv2(x))\n",
        "        if self.batch_norm:\n",
        "            x = self.bn2(x)\n",
        "        x = self.dropout(x)\n",
        "        return x\n",
        "\n"
      ],
      "metadata": {
        "id": "FwAgtzDrg4T_"
      },
      "execution_count": null,
      "outputs": []
    },
    {
      "cell_type": "markdown",
      "source": [
        "### defines a U-Net architecture for single image deraining. You can adjust the input_channels, num_filters_list, and other parameters as needed "
      ],
      "metadata": {
        "id": "Rsc7m2GMhswd"
      }
    },
    {
      "cell_type": "code",
      "source": [
        "class UNet(nn.Module):\n",
        "    def __init__(self, in_channels, num_filters_list):\n",
        "        super(UNet, self).__init__()\n",
        "\n",
        "        self.encoder_blocks = []\n",
        "        self.decoder_blocks = []\n",
        "\n",
        "        # Encoder\n",
        "        for i, num_filters in enumerate(num_filters_list[:-1]):\n",
        "            self.encoder_blocks.append(ConvBlock(in_channels, num_filters))\n",
        "            in_channels = num_filters\n",
        "\n",
        "        # Bottleneck\n",
        "        self.bottleneck = ConvBlock(num_filters_list[-2], num_filters_list[-1])\n",
        "\n",
        "        # Decoder\n",
        "        for num_filters in reversed(num_filters_list[1:]):\n",
        "            self.decoder_blocks.append(ConvBlock(in_channels, num_filters))\n",
        "            in_channels = num_filters\n",
        "\n",
        "        # Output layer\n",
        "        self.output_layer = nn.Conv2d(num_filters_list[0], 1, kernel_size=1)\n",
        "\n",
        "        self.encoder_blocks = nn.ModuleList(self.encoder_blocks)\n",
        "        self.decoder_blocks = nn.ModuleList(self.decoder_blocks)\n",
        "\n",
        "    def forward(self, x):\n",
        "        skip_connections = []\n",
        "\n",
        "        # Encoder\n",
        "        for enc_block in self.encoder_blocks:\n",
        "            x = enc_block(x)\n",
        "            skip_connections.append(x)\n",
        "            x = F.max_pool2d(x, kernel_size=2, stride=2)\n",
        "\n",
        "        # Bottleneck\n",
        "        x = self.bottleneck(x)\n",
        "\n",
        "        # Decoder\n",
        "        for i, dec_block in enumerate(self.decoder_blocks):\n",
        "            x = F.interpolate(x, scale_factor=2, mode='bilinear', align_corners=True)\n",
        "            x = torch.cat((skip_connections[-i-1], x), dim=1)\n",
        "            x = dec_block(x)\n",
        "\n",
        "        # Output layer\n",
        "        x = self.output_layer(x)\n",
        "        return x\n",
        "\n"
      ],
      "metadata": {
        "id": "ZvlmDmFXhJ1w"
      },
      "execution_count": null,
      "outputs": []
    },
    {
      "cell_type": "code",
      "source": [
        "# Model parameters\n",
        "input_channels = 1\n",
        "num_filters_list = [64, 128, 256, 512]\n",
        "\n",
        "# Build U-Net\n",
        "unet_model = UNet(input_channels, num_filters_list)\n",
        "print(unet_model)"
      ],
      "metadata": {
        "id": "TQ1VAkuIhZMK"
      },
      "execution_count": null,
      "outputs": []
    },
    {
      "cell_type": "markdown",
      "source": [
        "### U-Net architecture using the functional API"
      ],
      "metadata": {
        "id": "8TAuQHjQi4JQ"
      }
    },
    {
      "cell_type": "code",
      "source": [
        "def conv_block(in_channels, out_channels, kernel_size=3, dropout_rate=0.5, batch_norm=True):\n",
        "    layers = []\n",
        "    layers.append(nn.Conv2d(in_channels, out_channels, kernel_size, padding=1))\n",
        "    if batch_norm:\n",
        "        layers.append(nn.BatchNorm2d(out_channels))\n",
        "    layers.append(nn.ReLU(inplace=True))\n",
        "    layers.append(nn.Conv2d(out_channels, out_channels, kernel_size, padding=1))\n",
        "    if batch_norm:\n",
        "        layers.append(nn.BatchNorm2d(out_channels))\n",
        "    layers.append(nn.ReLU(inplace=True))\n",
        "    if dropout_rate:\n",
        "        layers.append(nn.Dropout(dropout_rate))\n",
        "    return nn.Sequential(*layers)"
      ],
      "metadata": {
        "id": "h3pLVnEti3aB"
      },
      "execution_count": null,
      "outputs": []
    },
    {
      "cell_type": "code",
      "source": [
        "def upconv_block(in_channels, out_channels, kernel_size=2):\n",
        "    return nn.Sequential(\n",
        "        nn.ConvTranspose2d(in_channels, out_channels, kernel_size, stride=2)\n",
        "    )"
      ],
      "metadata": {
        "id": "42SyX4_NjOEW"
      },
      "execution_count": null,
      "outputs": []
    },
    {
      "cell_type": "code",
      "source": [
        "class UNetFunctional(nn.Module):\n",
        "    def __init__(self, in_channels, num_filters_list):\n",
        "        super(UNetFunctional, self).__init__()\n",
        "\n",
        "        # Encoder blocks\n",
        "        self.enc_blocks = nn.ModuleList([\n",
        "            conv_block(in_ch, out_ch) for in_ch, out_ch in zip([in_channels, *num_filters_list[:-1]], num_filters_list)\n",
        "        ])\n",
        "\n",
        "        # Bottleneck\n",
        "        self.bottleneck = conv_block(num_filters_list[-1], num_filters_list[-1] * 2)\n",
        "\n",
        "        # Decoder blocks\n",
        "        self.upconvs = nn.ModuleList([\n",
        "            upconv_block(in_ch, out_ch) for in_ch, out_ch in zip(num_filters_list[::-1], num_filters_list[-2::-1])\n",
        "        ])\n",
        "        self.dec_blocks = nn.ModuleList([\n",
        "            conv_block(in_ch * 2, out_ch) for in_ch, out_ch in zip(num_filters_list[::-1], num_filters_list[-2::-1])\n",
        "        ])\n",
        "\n",
        "        # Output layer\n",
        "        self.output_layer = nn.Conv2d(num_filters_list[0], 1, kernel_size=1)\n",
        "\n",
        "    def forward(self, x):\n",
        "        encoder_outputs = []\n",
        "        for enc_block in self.enc_blocks:\n",
        "            x = enc_block(x)\n",
        "            encoder_outputs.append(x)\n",
        "            x = F.max_pool2d(x, kernel_size=2, stride=2)\n",
        "\n",
        "        x = self.bottleneck(x)\n",
        "\n",
        "        for upconv, dec_block, skip in zip(self.upconvs, self.dec_blocks, encoder_outputs[::-1]):\n",
        "            x = upconv(x)\n",
        "            x = torch.cat((x, skip), dim=1)\n",
        "            x = dec_block(x)\n",
        "\n",
        "        x = self.output_layer(x)\n",
        "        return x"
      ],
      "metadata": {
        "id": "tfMZk0PejwA7"
      },
      "execution_count": null,
      "outputs": []
    },
    {
      "cell_type": "code",
      "source": [
        "# Model parameters\n",
        "input_channels = 1\n",
        "num_filters_list = [64, 128, 256, 512]\n"
      ],
      "metadata": {
        "id": "_sosK8IXjyc9"
      },
      "execution_count": null,
      "outputs": []
    },
    {
      "cell_type": "code",
      "source": [
        "\n",
        "# Build U-Net\n",
        "unet_model_functional = UNetFunctional(input_channels, num_filters_list)\n",
        "print(unet_model_functional)"
      ],
      "metadata": {
        "id": "uDxq2bbRj0pk"
      },
      "execution_count": null,
      "outputs": []
    }
  ]
}