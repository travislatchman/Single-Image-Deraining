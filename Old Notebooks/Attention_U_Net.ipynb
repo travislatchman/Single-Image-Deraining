{
  "nbformat": 4,
  "nbformat_minor": 0,
  "metadata": {
    "colab": {
      "provenance": [],
      "authorship_tag": "ABX9TyMs8mxBDb36GY18lAijvnZw",
      "include_colab_link": true
    },
    "kernelspec": {
      "name": "python3",
      "display_name": "Python 3"
    },
    "language_info": {
      "name": "python"
    }
  },
  "cells": [
    {
      "cell_type": "markdown",
      "metadata": {
        "id": "view-in-github",
        "colab_type": "text"
      },
      "source": [
        "<a href=\"https://colab.research.google.com/github/travislatchman/Single-Image-Deraining/blob/main/Attention_U_Net.ipynb\" target=\"_parent\"><img src=\"https://colab.research.google.com/assets/colab-badge.svg\" alt=\"Open In Colab\"/></a>"
      ]
    },
    {
      "cell_type": "code",
      "execution_count": null,
      "metadata": {
        "id": "JKbz0MfhnYTg"
      },
      "outputs": [],
      "source": [
        "import torch\n",
        "import torch.nn as nn\n",
        "import torch.nn.functional as F"
      ]
    },
    {
      "cell_type": "code",
      "source": [
        "class AttentionGate(nn.Module):\n",
        "    def __init__(self, in_channels, gating_channels, inter_channels):\n",
        "        super(AttentionGate, self).__init__()\n",
        "\n",
        "        self.W_g = nn.Sequential(\n",
        "            nn.Conv2d(gating_channels, inter_channels, kernel_size=1, stride=1, padding=0, bias=True),\n",
        "            nn.BatchNorm2d(inter_channels)\n",
        "        )\n",
        "\n",
        "        self.W_x = nn.Sequential(\n",
        "            nn.Conv2d(in_channels, inter_channels, kernel_size=1, stride=1, padding=0, bias=True),\n",
        "            nn.BatchNorm2d(inter_channels)\n",
        "        )\n",
        "\n",
        "        self.psi = nn.Sequential(\n",
        "            nn.Conv2d(inter_channels, 1, kernel_size=1, stride=1, padding=0, bias=True),\n",
        "            nn.BatchNorm2d(1),\n",
        "            nn.Sigmoid()\n",
        "        )\n",
        "\n",
        "    def forward(self, x, g):\n",
        "        g1 = self.W_g(g)\n",
        "        x1 = self.W_x(x)\n",
        "        psi = self.psi(F.relu(g1 + x1, inplace=True))\n",
        "        return x * psi"
      ],
      "metadata": {
        "id": "QzVLWM45n2Hi"
      },
      "execution_count": null,
      "outputs": []
    },
    {
      "cell_type": "code",
      "source": [
        "class DoubleConv(nn.Module):\n",
        "    def __init__(self, in_channels, out_channels):\n",
        "        super(DoubleConv, self).__init__()\n",
        "        self.conv = nn.Sequential(\n",
        "            nn.Conv2d(in_channels, out_channels, kernel_size=3, padding=1),\n",
        "            nn.BatchNorm2d(out_channels),\n",
        "            nn.ReLU(inplace=True),\n",
        "            nn.Conv2d(out_channels, out_channels, kernel_size=3, padding=1),\n",
        "            nn.BatchNorm2d(out_channels),\n",
        "            nn.ReLU(inplace=True)\n",
        "        )\n",
        "\n",
        "    def forward(self, x):\n",
        "        return self.conv(x)"
      ],
      "metadata": {
        "id": "uVpyf6uopm1y"
      },
      "execution_count": null,
      "outputs": []
    },
    {
      "cell_type": "code",
      "source": [
        "class AttentionUNet(nn.Module):\n",
        "    def __init__(self, in_channels, out_channels):\n",
        "        super(AttentionUNet, self).__init__()\n",
        "\n",
        "        self.encoder = nn.Sequential(\n",
        "            DoubleConv(in_channels, 64),\n",
        "            nn.MaxPool2d(2)\n",
        "        )\n",
        "\n",
        "        self.middle = DoubleConv(64, 128)\n",
        "\n",
        "        self.decoder = nn.Sequential(\n",
        "            nn.ConvTranspose2d(128, 64, kernel_size=2, stride=2),\n",
        "            DoubleConv(64, 64)\n",
        "        )\n",
        "\n",
        "        self.att_gate = AttentionGate(64, 128, 32)\n",
        "        self.output = nn.Conv2d(64, out_channels, kernel_size=1)\n",
        "\n",
        "    def forward(self, x):\n",
        "        enc = self.encoder(x)\n",
        "        mid = self.middle(F.max_pool2d(enc, 2))\n",
        "        dec = self.decoder(mid)\n",
        "\n",
        "        att = self.att_gate(enc, mid)\n",
        "        x = dec + att\n",
        "        return self.output(x)\n",
        "\n"
      ],
      "metadata": {
        "id": "bizbp9NXw9zm"
      },
      "execution_count": null,
      "outputs": []
    },
    {
      "cell_type": "code",
      "source": [
        "# Example usage\n",
        "in_channels = 1\n",
        "out_channels = 1\n",
        "model = AttentionUNet(in_channels, out_channels)\n",
        "input_tensor = torch.rand(1, in_channels, 256, 256)\n",
        "output_tensor = model(input_tensor)\n",
        "print(output_tensor.shape)"
      ],
      "metadata": {
        "id": "IpOZD-8Pw_mg"
      },
      "execution_count": null,
      "outputs": []
    }
  ]
}
